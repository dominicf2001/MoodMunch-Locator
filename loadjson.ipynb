{
 "cells": [
  {
   "cell_type": "markdown",
   "metadata": {},
   "source": [
    "### Read info directly from json file. Download link: https://www.yelp.com/dataset . \n",
    "<a href=https://towardsdatascience.com/load-yelp-reviews-or-other-huge-json-files-with-ease-ad804c2f1537>Link For Load yelp review (huge json file) </a>"
   ]
  },
  {
   "cell_type": "code",
   "execution_count": null,
   "metadata": {},
   "outputs": [],
   "source": [
    "\"\"\"\n",
    "READ yelp_review.json\n",
    "\"\"\"\n",
    "# b_pandas = []\n",
    "# r_dtypes = {\"stars\": np.float16}\n",
    "\n",
    "# with open('dataset/yelp_academic_dataset_review.json', 'r') as f:\n",
    "#     df = pd.read_json(f, orient=\"records\", lines=True, dtype=r_dtypes, chunksize=1000)\n",
    "\n",
    "#     for chunk in df:\n",
    "#         reduced_chunk = chunk.drop(columns=['review_id', 'user_id', 'useful', 'funny', 'cool'])\\\n",
    "#                              .query(\"`date` >= '2020-12-01'\").query(\"`stars` >= 3.9\")\n",
    "#         b_pandas.append(reduced_chunk)\n",
    "    \n",
    "# b_pandas = pd.concat(b_pandas, ignore_index=True)\n",
    "# b_pandas\n",
    "\n",
    "\"\"\"\n",
    "READ yelp_business.json\n",
    "\"\"\"\n",
    "# a_pandas = []\n",
    "# r_dtypes = {}\n",
    "\n",
    "# with open('dataset/yelp_academic_dataset_business.json', 'r') as f:\n",
    "#     df = pd.read_json(f, orient=\"records\", lines=True, dtype=r_dtypes, chunksize=1000)\n",
    "\n",
    "        \n",
    "#     for chunk in df:\n",
    "#         reduced_chunk = chunk.drop(columns=['business_id', 'address','review_count', 'attributes','hours'])\\\n",
    "#                              .query(\"`state` == 'OH'\")\n",
    "                            \n",
    "#         a_pandas.append(reduced_chunk)\n",
    "    \n",
    "# a_pandas = pd.concat(a_pandas, ignore_index=True)\n",
    "# a_pandas\n"
   ]
  }
 ],
 "metadata": {
  "language_info": {
   "name": "python"
  }
 },
 "nbformat": 4,
 "nbformat_minor": 2
}
